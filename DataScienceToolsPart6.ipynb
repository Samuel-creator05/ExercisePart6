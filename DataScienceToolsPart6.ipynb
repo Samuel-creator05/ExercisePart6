{
  "metadata": {
    "kernelspec": {
      "name": "python",
      "display_name": "Python (Pyodide)",
      "language": "python"
    },
    "language_info": {
      "codemirror_mode": {
        "name": "python",
        "version": 3
      },
      "file_extension": ".py",
      "mimetype": "text/x-python",
      "name": "python",
      "nbconvert_exporter": "python",
      "pygments_lexer": "ipython3",
      "version": "3.8"
    }
  },
  "nbformat_minor": 4,
  "nbformat": 4,
  "cells": [
    {
      "cell_type": "markdown",
      "source": "## Data Science Tools",
      "metadata": {}
    },
    {
      "cell_type": "markdown",
      "source": "## Introduction\n### This is the cell created for the introduction of this exercise",
      "metadata": {}
    },
    {
      "cell_type": "markdown",
      "source": "List of languages \n1. Python\n2. R\n3. Java\n4. C\n5. C++",
      "metadata": {}
    },
    {
      "cell_type": "markdown",
      "source": "List of libraries\n1. Pandas\n2. Numpy\n3. Plotly\n4. Keras\n5. Scikit-learn",
      "metadata": {}
    },
    {
      "cell_type": "markdown",
      "source": "| List of tools |\n| ----------------- |\n| VScode |\n|Jupyter Notebook |\n| RStudio |\n",
      "metadata": {}
    },
    {
      "cell_type": "markdown",
      "source": "# Example of arithmetic expression\n#Add\n    3+4\n#Multiply\n    3*4\n",
      "metadata": {}
    },
    {
      "cell_type": "code",
      "source": "# Example of arithmetic expression\n\n(10*4)+5\n",
      "metadata": {
        "trusted": true,
        "scrolled": true
      },
      "outputs": [
        {
          "execution_count": 15,
          "output_type": "execute_result",
          "data": {
            "text/plain": "45"
          },
          "metadata": {}
        }
      ],
      "execution_count": 15
    },
    {
      "cell_type": "code",
      "source": "# Convert minutes to hours\n\nMinutes = 210\nHours = Minutes/60\nprint (f\"{Minutes} minutes are {Hours} hours\")\n",
      "metadata": {
        "trusted": true
      },
      "outputs": [
        {
          "name": "stdout",
          "text": "210 minutes are 3.5 hours\n",
          "output_type": "stream"
        }
      ],
      "execution_count": 16
    },
    {
      "cell_type": "markdown",
      "source": "## List of objectives\n- Objective 1\n- Objective 2\n- Objective 3",
      "metadata": {}
    },
    {
      "cell_type": "markdown",
      "source": "## Samuel Rubio ",
      "metadata": {}
    }
  ]
}